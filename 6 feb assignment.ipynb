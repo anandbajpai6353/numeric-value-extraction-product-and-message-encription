{
 "cells": [
  {
   "cell_type": "markdown",
   "id": "a06dd841-f349-4fee-b058-316c3e9a6425",
   "metadata": {},
   "source": [
    "Q1. Create a function which will take a list as an argument and return the product of all the numbers after creating a flat list. Use the below-given list as an argument for your function. list1 = [1,2,3,4, [44,55,66, True], False, (34,56,78,89,34), {1,2,3,3,2,1}, {1:34, \"key2\": [55, 67, 78, 89], 4: (45, 22, 61, 34)}, [56, 'data science'], 'Machine Learning'] Note: you must extract numeric keys and values of the dictionary also."
   ]
  },
  {
   "cell_type": "code",
   "execution_count": 4,
   "id": "cda5c36c-f098-4e1b-a929-226879544fe4",
   "metadata": {},
   "outputs": [],
   "source": [
    "list1 = [1, 2, 3, 4, [44, 55, 66, True], False, (34, 56, 78, 89, 34), {1, 2, 3, 3, 2, 1},\n",
    "         {1: 34, \"key2\": [55, 67, 78, 89], 4: (45, 22, 61, 34)}, [56, 'data science'], 'Machine Learning']"
   ]
  },
  {
   "cell_type": "code",
   "execution_count": 6,
   "id": "38e8fb66-96d4-4235-8087-54458b5b4618",
   "metadata": {},
   "outputs": [
    {
     "name": "stdout",
     "output_type": "stream",
     "text": [
      "[1, 2, 3, 4, 44, 55, 66, True, False, 1, 34, 55, 67, 78, 89, 4, 56]\n"
     ]
    }
   ],
   "source": [
    "new_list = []\n",
    "\n",
    "def extract_numeric_data(data):\n",
    "    if isinstance(data, (int, float)):\n",
    "        new_list.append(data)\n",
    "    elif isinstance(data, list):\n",
    "        for item in data:\n",
    "            extract_numeric_data(item)\n",
    "    elif isinstance(data, dict):\n",
    "        for key, value in data.items():\n",
    "            extract_numeric_data(key)\n",
    "            extract_numeric_data(value)\n",
    "\n",
    "# Iterate over the elements in list1\n",
    "for element in list1:\n",
    "    extract_numeric_data(element)\n",
    "\n",
    "print(new_list)\n"
   ]
  },
  {
   "cell_type": "code",
   "execution_count": 2,
   "id": "ea77c1c5-fa10-45cc-a9c4-ad7c5ee0bb28",
   "metadata": {},
   "outputs": [
    {
     "name": "stdout",
     "output_type": "stream",
     "text": [
      "Multiplying: 1 * 1\n",
      "Multiplying: 1 * 2\n",
      "Multiplying: 2 * 3\n",
      "Multiplying: 6 * 4\n",
      "Multiplying: 24 * 44\n",
      "Multiplying: 1056 * 55\n",
      "Multiplying: 58080 * 66\n",
      "Multiplying: 3833280 * True\n",
      "Multiplying: 3833280 * False\n",
      "Multiplying: 0 * 1\n",
      "Multiplying: 0 * 34\n",
      "Multiplying: 0 * 55\n",
      "Multiplying: 0 * 67\n",
      "Multiplying: 0 * 78\n",
      "Multiplying: 0 * 89\n",
      "Multiplying: 0 * 4\n",
      "Multiplying: 0 * 56\n",
      "Product: 0\n"
     ]
    }
   ],
   "source": [
    "def calculate_product(lst):\n",
    "    flat_list = []\n",
    "\n",
    "    def flatten_list(data):\n",
    "        if isinstance(data, list):\n",
    "            for item in data:\n",
    "                flatten_list(item)\n",
    "        else:\n",
    "            flat_list.append(data)\n",
    "\n",
    "    # Flatten the list\n",
    "    flatten_list(lst)\n",
    "\n",
    "    # Calculate the product of numbers in the flat list\n",
    "    product = 1\n",
    "    for num in flat_list:\n",
    "        if isinstance(num, (int, float)):\n",
    "            print(f\"Multiplying: {product} * {num}\")\n",
    "            product *= num\n",
    "\n",
    "    return product\n",
    "\n",
    "\n",
    "# Test the function with the given list\n",
    "new_list = [1, 2, 3, 4, 44, 55, 66, True, False, 1, 34, 55, 67, 78, 89, 4, 56]\n",
    "result = calculate_product(new_list)\n",
    "print(\"Product:\", result)\n"
   ]
  },
  {
   "cell_type": "raw",
   "id": "7c964ca7-8337-4655-a7e6-19a5c7f8312b",
   "metadata": {},
   "source": []
  },
  {
   "cell_type": "markdown",
   "id": "55b03cf7-d488-4d47-be21-eb6d4ede02b0",
   "metadata": {},
   "source": [
    "Q2. Write a python program for encrypting a message sent to you by your friend. The logic of encryption\n",
    "should be such that, for a the output should be z. For b, the output should be y. For c, the output should\n",
    "be x respectively. Also, the whitespace should be replaced with a dollar sign. Keep the punctuation\n",
    "marks unchanged.\n",
    "Input Sentence: I want to become a Data Scientist.\n",
    "Encrypt the above input sentence using the program you just created.\n",
    "Note: Convert the given input sentence into lowercase before encrypting. The final output should be\n",
    "lowercase."
   ]
  },
  {
   "cell_type": "code",
   "execution_count": 4,
   "id": "4511b275-b45f-4058-9580-89a5d5e878f1",
   "metadata": {},
   "outputs": [
    {
     "name": "stdout",
     "output_type": "stream",
     "text": [
      "Encrypted Sentence: r$dzmg$gl$yvxlnv$z$wzgz$hxrvmgrhg.\n"
     ]
    }
   ],
   "source": [
    "def encrypt_message(message):\n",
    "    encrypted_message = \"\"\n",
    "    for char in message.lower():\n",
    "        if char.isalpha():\n",
    "            encrypted_char = chr(219 - ord(char))\n",
    "            encrypted_message += encrypted_char\n",
    "        elif char == \" \":\n",
    "            encrypted_message += \"$\"\n",
    "        else:\n",
    "            encrypted_message += char\n",
    "\n",
    "    return encrypted_message\n",
    "\n",
    "\n",
    "# Test the program with the input sentence\n",
    "input_sentence = \"I want to become a Data Scientist.\"\n",
    "encrypted_sentence = encrypt_message(input_sentence)\n",
    "print(\"Encrypted Sentence:\", encrypted_sentence)\n"
   ]
  },
  {
   "cell_type": "code",
   "execution_count": null,
   "id": "f5e4b083-10dd-4a19-a198-1ba85d52d922",
   "metadata": {},
   "outputs": [],
   "source": []
  }
 ],
 "metadata": {
  "kernelspec": {
   "display_name": "Python 3 (ipykernel)",
   "language": "python",
   "name": "python3"
  },
  "language_info": {
   "codemirror_mode": {
    "name": "ipython",
    "version": 3
   },
   "file_extension": ".py",
   "mimetype": "text/x-python",
   "name": "python",
   "nbconvert_exporter": "python",
   "pygments_lexer": "ipython3",
   "version": "3.10.8"
  }
 },
 "nbformat": 4,
 "nbformat_minor": 5
}
